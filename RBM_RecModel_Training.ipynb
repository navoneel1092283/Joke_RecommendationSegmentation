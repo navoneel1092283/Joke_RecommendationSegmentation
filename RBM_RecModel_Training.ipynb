{
  "nbformat": 4,
  "nbformat_minor": 0,
  "metadata": {
    "accelerator": "TPU",
    "colab": {
      "name": "RBM_RecModel_Training.ipynb",
      "provenance": [],
      "collapsed_sections": []
    },
    "kernelspec": {
      "display_name": "Python 3",
      "language": "python",
      "name": "python3"
    },
    "language_info": {
      "codemirror_mode": {
        "name": "ipython",
        "version": 3
      },
      "file_extension": ".py",
      "mimetype": "text/x-python",
      "name": "python",
      "nbconvert_exporter": "python",
      "pygments_lexer": "ipython3",
      "version": "3.8.5"
    }
  },
  "cells": [
    {
      "cell_type": "code",
      "metadata": {
        "id": "o0gUiV2NinUj"
      },
      "source": [
        "# importing the numpy library\n",
        "import numpy as np"
      ],
      "execution_count": null,
      "outputs": []
    },
    {
      "cell_type": "code",
      "metadata": {
        "id": "4a8miBQcin_c"
      },
      "source": [
        "# importing the pandas library\n",
        "import pandas as pd"
      ],
      "execution_count": null,
      "outputs": []
    },
    {
      "cell_type": "code",
      "metadata": {
        "id": "V77QfBzNioHF"
      },
      "source": [
        "# importing the datasets and concatenating them into one dataframe\n",
        "\n",
        "data1 = pd.read_csv('jester-data-1.csv', header = None)\n",
        "data2 = pd.read_csv('jester-data-2.csv', header = None)\n",
        "data3 = pd.read_csv('jester-data-3.csv', header = None)\n",
        "\n",
        "\n",
        "data = pd.concat([data1, data2, data3])"
      ],
      "execution_count": null,
      "outputs": []
    },
    {
      "cell_type": "code",
      "metadata": {
        "colab": {
          "base_uri": "https://localhost:8080/",
          "height": 224
        },
        "id": "beN0QVauioWF",
        "outputId": "b463a5c0-6a73-4976-f213-aeee53c63a54"
      },
      "source": [
        "# displaying top 5 rows of the dataset\n",
        "data.head()"
      ],
      "execution_count": null,
      "outputs": [
        {
          "data": {
            "text/html": [
              "<div>\n",
              "<style scoped>\n",
              "    .dataframe tbody tr th:only-of-type {\n",
              "        vertical-align: middle;\n",
              "    }\n",
              "\n",
              "    .dataframe tbody tr th {\n",
              "        vertical-align: top;\n",
              "    }\n",
              "\n",
              "    .dataframe thead th {\n",
              "        text-align: right;\n",
              "    }\n",
              "</style>\n",
              "<table border=\"1\" class=\"dataframe\">\n",
              "  <thead>\n",
              "    <tr style=\"text-align: right;\">\n",
              "      <th></th>\n",
              "      <th>0</th>\n",
              "      <th>1</th>\n",
              "      <th>2</th>\n",
              "      <th>3</th>\n",
              "      <th>4</th>\n",
              "      <th>5</th>\n",
              "      <th>6</th>\n",
              "      <th>7</th>\n",
              "      <th>8</th>\n",
              "      <th>9</th>\n",
              "      <th>...</th>\n",
              "      <th>91</th>\n",
              "      <th>92</th>\n",
              "      <th>93</th>\n",
              "      <th>94</th>\n",
              "      <th>95</th>\n",
              "      <th>96</th>\n",
              "      <th>97</th>\n",
              "      <th>98</th>\n",
              "      <th>99</th>\n",
              "      <th>100</th>\n",
              "    </tr>\n",
              "  </thead>\n",
              "  <tbody>\n",
              "    <tr>\n",
              "      <th>0</th>\n",
              "      <td>74</td>\n",
              "      <td>-7.82</td>\n",
              "      <td>8.79</td>\n",
              "      <td>-9.66</td>\n",
              "      <td>-8.16</td>\n",
              "      <td>-7.52</td>\n",
              "      <td>-8.50</td>\n",
              "      <td>-9.85</td>\n",
              "      <td>4.17</td>\n",
              "      <td>-8.98</td>\n",
              "      <td>...</td>\n",
              "      <td>2.82</td>\n",
              "      <td>99.00</td>\n",
              "      <td>99.00</td>\n",
              "      <td>99.00</td>\n",
              "      <td>99.00</td>\n",
              "      <td>99.00</td>\n",
              "      <td>-5.63</td>\n",
              "      <td>99.00</td>\n",
              "      <td>99.00</td>\n",
              "      <td>99.00</td>\n",
              "    </tr>\n",
              "    <tr>\n",
              "      <th>1</th>\n",
              "      <td>100</td>\n",
              "      <td>4.08</td>\n",
              "      <td>-0.29</td>\n",
              "      <td>6.36</td>\n",
              "      <td>4.37</td>\n",
              "      <td>-2.38</td>\n",
              "      <td>-9.66</td>\n",
              "      <td>-0.73</td>\n",
              "      <td>-5.34</td>\n",
              "      <td>8.88</td>\n",
              "      <td>...</td>\n",
              "      <td>2.82</td>\n",
              "      <td>-4.95</td>\n",
              "      <td>-0.29</td>\n",
              "      <td>7.86</td>\n",
              "      <td>-0.19</td>\n",
              "      <td>-2.14</td>\n",
              "      <td>3.06</td>\n",
              "      <td>0.34</td>\n",
              "      <td>-4.32</td>\n",
              "      <td>1.07</td>\n",
              "    </tr>\n",
              "    <tr>\n",
              "      <th>2</th>\n",
              "      <td>49</td>\n",
              "      <td>99.00</td>\n",
              "      <td>99.00</td>\n",
              "      <td>99.00</td>\n",
              "      <td>99.00</td>\n",
              "      <td>9.03</td>\n",
              "      <td>9.27</td>\n",
              "      <td>9.03</td>\n",
              "      <td>9.27</td>\n",
              "      <td>99.00</td>\n",
              "      <td>...</td>\n",
              "      <td>99.00</td>\n",
              "      <td>99.00</td>\n",
              "      <td>99.00</td>\n",
              "      <td>9.08</td>\n",
              "      <td>99.00</td>\n",
              "      <td>99.00</td>\n",
              "      <td>99.00</td>\n",
              "      <td>99.00</td>\n",
              "      <td>99.00</td>\n",
              "      <td>99.00</td>\n",
              "    </tr>\n",
              "    <tr>\n",
              "      <th>3</th>\n",
              "      <td>48</td>\n",
              "      <td>99.00</td>\n",
              "      <td>8.35</td>\n",
              "      <td>99.00</td>\n",
              "      <td>99.00</td>\n",
              "      <td>1.80</td>\n",
              "      <td>8.16</td>\n",
              "      <td>-2.82</td>\n",
              "      <td>6.21</td>\n",
              "      <td>99.00</td>\n",
              "      <td>...</td>\n",
              "      <td>99.00</td>\n",
              "      <td>99.00</td>\n",
              "      <td>99.00</td>\n",
              "      <td>0.53</td>\n",
              "      <td>99.00</td>\n",
              "      <td>99.00</td>\n",
              "      <td>99.00</td>\n",
              "      <td>99.00</td>\n",
              "      <td>99.00</td>\n",
              "      <td>99.00</td>\n",
              "    </tr>\n",
              "    <tr>\n",
              "      <th>4</th>\n",
              "      <td>91</td>\n",
              "      <td>8.50</td>\n",
              "      <td>4.61</td>\n",
              "      <td>-4.17</td>\n",
              "      <td>-5.39</td>\n",
              "      <td>1.36</td>\n",
              "      <td>1.60</td>\n",
              "      <td>7.04</td>\n",
              "      <td>4.61</td>\n",
              "      <td>-0.44</td>\n",
              "      <td>...</td>\n",
              "      <td>5.19</td>\n",
              "      <td>5.58</td>\n",
              "      <td>4.27</td>\n",
              "      <td>5.19</td>\n",
              "      <td>5.73</td>\n",
              "      <td>1.55</td>\n",
              "      <td>3.11</td>\n",
              "      <td>6.55</td>\n",
              "      <td>1.80</td>\n",
              "      <td>1.60</td>\n",
              "    </tr>\n",
              "  </tbody>\n",
              "</table>\n",
              "<p>5 rows × 101 columns</p>\n",
              "</div>"
            ],
            "text/plain": [
              "   0      1      2      3      4     5     6     7     8      9    ...    \\\n",
              "0   74  -7.82   8.79  -9.66  -8.16 -7.52 -8.50 -9.85  4.17  -8.98  ...     \n",
              "1  100   4.08  -0.29   6.36   4.37 -2.38 -9.66 -0.73 -5.34   8.88  ...     \n",
              "2   49  99.00  99.00  99.00  99.00  9.03  9.27  9.03  9.27  99.00  ...     \n",
              "3   48  99.00   8.35  99.00  99.00  1.80  8.16 -2.82  6.21  99.00  ...     \n",
              "4   91   8.50   4.61  -4.17  -5.39  1.36  1.60  7.04  4.61  -0.44  ...     \n",
              "\n",
              "     91     92     93     94     95     96     97     98     99     100  \n",
              "0   2.82  99.00  99.00  99.00  99.00  99.00  -5.63  99.00  99.00  99.00  \n",
              "1   2.82  -4.95  -0.29   7.86  -0.19  -2.14   3.06   0.34  -4.32   1.07  \n",
              "2  99.00  99.00  99.00   9.08  99.00  99.00  99.00  99.00  99.00  99.00  \n",
              "3  99.00  99.00  99.00   0.53  99.00  99.00  99.00  99.00  99.00  99.00  \n",
              "4   5.19   5.58   4.27   5.19   5.73   1.55   3.11   6.55   1.80   1.60  \n",
              "\n",
              "[5 rows x 101 columns]"
            ]
          },
          "execution_count": 4,
          "metadata": {
            "tags": []
          },
          "output_type": "execute_result"
        }
      ]
    },
    {
      "cell_type": "code",
      "metadata": {
        "colab": {
          "base_uri": "https://localhost:8080/",
          "height": 34
        },
        "id": "c7O-fE2hiojN",
        "outputId": "7ccaaea3-31f7-4adf-c7f3-fc4d5e23af5e"
      },
      "source": [
        "# checking the type of the dataset ie., dataframe\n",
        "type(data)"
      ],
      "execution_count": null,
      "outputs": [
        {
          "data": {
            "text/plain": [
              "pandas.core.frame.DataFrame"
            ]
          },
          "execution_count": 5,
          "metadata": {
            "tags": []
          },
          "output_type": "execute_result"
        }
      ]
    },
    {
      "cell_type": "code",
      "metadata": {
        "colab": {
          "base_uri": "https://localhost:8080/",
          "height": 118
        },
        "id": "zs4LxXThioow",
        "outputId": "6cf5480f-6cc1-4648-a21a-d5d51517beea"
      },
      "source": [
        "# dataset description and number of records present in the dataset (number of unique users)\n",
        "data.info()\n",
        "len(data)"
      ],
      "execution_count": null,
      "outputs": [
        {
          "name": "stdout",
          "output_type": "stream",
          "text": [
            "<class 'pandas.core.frame.DataFrame'>\n",
            "Int64Index: 73421 entries, 0 to 24937\n",
            "Columns: 101 entries, 0 to 100\n",
            "dtypes: float64(100), int64(1)\n",
            "memory usage: 57.1 MB\n"
          ]
        },
        {
          "data": {
            "text/plain": [
              "73421"
            ]
          },
          "execution_count": 6,
          "metadata": {
            "tags": []
          },
          "output_type": "execute_result"
        }
      ]
    },
    {
      "cell_type": "code",
      "metadata": {
        "id": "fdgbrDEqiol5"
      },
      "source": [
        "# selecting the user-ratings of the fixed 100 jokes\n",
        "X = np.array(data)[:,1:]"
      ],
      "execution_count": null,
      "outputs": []
    },
    {
      "cell_type": "code",
      "metadata": {
        "colab": {
          "base_uri": "https://localhost:8080/",
          "height": 34
        },
        "id": "iIjASQ4HiohP",
        "outputId": "91272d83-3ea9-4d5c-a49e-4325e1d3c1d3"
      },
      "source": [
        "# dimensions of the dataset\n",
        "X.shape"
      ],
      "execution_count": null,
      "outputs": [
        {
          "data": {
            "text/plain": [
              "(73421, 100)"
            ]
          },
          "execution_count": 8,
          "metadata": {
            "tags": []
          },
          "output_type": "execute_result"
        }
      ]
    },
    {
      "cell_type": "code",
      "metadata": {
        "id": "V34cxJDziofH"
      },
      "source": [
        "# 80-20 Train Test Split of the dataset\n",
        "training_set = X[0:int(0.8*73421)]\n",
        "test_set = X[int(0.8*73421):]"
      ],
      "execution_count": null,
      "outputs": []
    },
    {
      "cell_type": "code",
      "metadata": {
        "id": "-jQrKoqVioc4"
      },
      "source": [
        "# importing the PyTorch libraries for RBM Instantiation and Training\n",
        "import torch\n",
        "import torch.nn as nn \n",
        "import torch.nn.parallel\n",
        "import torch.optim as optim\n",
        "import torch.utils.data\n",
        "from torch.autograd import Variable"
      ],
      "execution_count": null,
      "outputs": []
    },
    {
      "cell_type": "code",
      "metadata": {
        "id": "45lqo3mQioa2"
      },
      "source": [
        "# converting the training dataframe into torch tensor\n",
        "training_set = torch.FloatTensor(training_set)"
      ],
      "execution_count": null,
      "outputs": []
    },
    {
      "cell_type": "code",
      "metadata": {
        "id": "gkEFguY2ioZa"
      },
      "source": [
        "# converting the test dataframe into torch tensor\n",
        "test_set = torch.FloatTensor(test_set)"
      ],
      "execution_count": null,
      "outputs": []
    },
    {
      "cell_type": "code",
      "metadata": {
        "id": "eOBapO98ioTs"
      },
      "source": [
        "# data-preprocessing of the training set\n",
        "## 1. Ratings in the range [7, 10] is set to 1\n",
        "## 2. Ratings in the range [-10, 7) is set to 0\n",
        "## 3. Missing Ratings described by 99 is set to -1\n",
        "for i in range(training_set.shape[0]):\n",
        "    for j in range(training_set.shape[1]):\n",
        "        if training_set[i,j] >= 7 and training_set[i,j] <= 10:\n",
        "            training_set[i,j] = 1\n",
        "        elif training_set[i,j] < 7:\n",
        "            training_set[i,j] = 0\n",
        "training_set[training_set == 99] = -1"
      ],
      "execution_count": null,
      "outputs": []
    },
    {
      "cell_type": "code",
      "metadata": {
        "id": "BqzNSKf1ioRq"
      },
      "source": [
        "# data-preprocessing of the test set\n",
        "## 1. Ratings in the range [7, 10] is set to 1\n",
        "## 2. Ratings in the range [-10, 7) is set to 0\n",
        "## 3. Missing Ratings described by 99 is set to -1\n",
        "for i in range(test_set.shape[0]):\n",
        "    for j in range(test_set.shape[1]):\n",
        "        if test_set[i,j] >= 7 and test_set[i,j] <= 10:\n",
        "            test_set[i,j] = 1\n",
        "        elif test_set[i,j] < 7:\n",
        "            test_set[i,j] = 0\n",
        "test_set[test_set == 99] = -1"
      ],
      "execution_count": null,
      "outputs": []
    },
    {
      "cell_type": "code",
      "metadata": {
        "id": "buPl5jkWioPZ"
      },
      "source": [
        "# describing and constructing the RBM Architecture in the form of class and instance methods\n",
        "class RBM():\n",
        "    def __init__(self, nv, nh): \n",
        "        self.W = torch.randn(nv, nh) \n",
        "        \n",
        "        \n",
        "        self.a = torch.randn(1, nh) \n",
        "        \n",
        "        \n",
        "        self.b = torch.randn(1, nv)\n",
        "        \n",
        "    \n",
        "    def sample_h(self, x): \n",
        "        wx = torch.mm(x, self.W) \n",
        "        activation = wx + self.a.expand_as(wx) \n",
        "        p_h_given_v = torch.sigmoid(activation)\n",
        "        \n",
        "        \n",
        "        return p_h_given_v, torch.bernoulli(p_h_given_v) \n",
        "    \n",
        "    \n",
        "    def sample_v(self, y):\n",
        "        wy = torch.mm(y, self.W.t())\n",
        "        activation = wy + self.b.expand_as(wy)\n",
        "        p_v_given_h = torch.sigmoid(activation)\n",
        "        \n",
        "        return p_v_given_h, torch.bernoulli(p_v_given_h)\n",
        "    \n",
        "    \n",
        "    \n",
        "    def train(self, v0, vk, ph0, phk):\n",
        "        \n",
        "        self.W += torch.mm(v0.t(), ph0) - torch.mm(vk.t(), phk)\n",
        "        self.b += torch.sum((v0 - vk), 0) \n",
        "        self.a += torch.sum((ph0 - phk), 0) "
      ],
      "execution_count": null,
      "outputs": []
    },
    {
      "cell_type": "code",
      "metadata": {
        "id": "JmHgOLLKioFT"
      },
      "source": [
        "nv = len(training_set[1]) # number of jokes, i.e., 100\n",
        "nh = 20 # No. of internal features to be detected (NICE CHOICE)\n",
        "batch_size = 3671\n",
        "\n",
        "rbm = RBM(nv, nh) # RBM Model Instantiation"
      ],
      "execution_count": null,
      "outputs": []
    },
    {
      "cell_type": "code",
      "metadata": {
        "colab": {
          "base_uri": "https://localhost:8080/",
          "height": 185
        },
        "id": "s1rocQCuioEC",
        "outputId": "bfe62995-c26b-4f0c-a345-071321b0eac3"
      },
      "source": [
        "# Training of Restricted Boltzmann Machine\n",
        "nb_epoch = 10\n",
        "for epoch in range(1, nb_epoch + 1):\n",
        "    \n",
        "    \n",
        "    train_loss = 0 \n",
        "    s = 0. \n",
        "    for i in range(0, 58736 - batch_size, batch_size): \n",
        "        vk = training_set[i: i + batch_size]\n",
        "        v0 = training_set[i: i + batch_size]\n",
        "        ph0, _ = rbm.sample_h(v0)\n",
        "        \n",
        "        # TUNE k\n",
        "        for k in range(20): \n",
        "            _, hk = rbm.sample_h(vk)\n",
        "            _, vk = rbm.sample_v(hk)\n",
        "            \n",
        "            vk[v0 < 0] = v0[v0 < 0]\n",
        "        \n",
        "        phk, _ = rbm.sample_h(vk)\n",
        "        \n",
        "        #TRAINING.....\n",
        "        rbm.train(v0, vk, ph0, phk)\n",
        "                                   \n",
        "        train_loss += torch.mean(torch.abs(v0[v0 >= 0] - vk[vk >= 0]))\n",
        "        s += 1\n",
        "        \n",
        "    print('epoch: '+ str(epoch) + ' loss: '+ str(train_loss/s))"
      ],
      "execution_count": null,
      "outputs": [
        {
          "name": "stdout",
          "output_type": "stream",
          "text": [
            "epoch: 1 loss: tensor(0.2293)\n",
            "epoch: 2 loss: tensor(0.2137)\n",
            "epoch: 3 loss: tensor(0.2188)\n",
            "epoch: 4 loss: tensor(0.2175)\n",
            "epoch: 5 loss: tensor(0.2192)\n",
            "epoch: 6 loss: tensor(0.2106)\n",
            "epoch: 7 loss: tensor(0.1844)\n",
            "epoch: 8 loss: tensor(0.1889)\n",
            "epoch: 9 loss: tensor(0.2018)\n",
            "epoch: 10 loss: tensor(0.1974)\n"
          ]
        }
      ]
    },
    {
      "cell_type": "code",
      "metadata": {
        "id": "llu1ijzdr63u"
      },
      "source": [
        "# recording the loss in each and every epoch of the 10 epochs\n",
        "loss = np.array([0.2293, 0.2137, 0.2188, 0.2175, 0.2192, 0.2106, 0.1844, 0.1889, 0.2018, 0.1974])\n",
        "epoch = np.array([x for x in range(1,11)])"
      ],
      "execution_count": 1,
      "outputs": []
    },
    {
      "cell_type": "code",
      "metadata": {
        "colab": {
          "base_uri": "https://localhost:8080/",
          "height": 503
        },
        "id": "2vyVuE-WszL6",
        "outputId": "7789f0e5-21ea-4484-e705-f7df634757ca"
      },
      "source": [
        "# plotting the loss vs epoch curve\n",
        "import matplotlib as mpl\n",
        "import matplotlib.pyplot as plt\n",
        "\n",
        "mpl.style.use('seaborn')\n",
        "plt.plot(epoch, loss)\n",
        "plt.xlabel('Epoch')\n",
        "plt.ylabel('Loss')\n",
        "plt.show()"
      ],
      "execution_count": 14,
      "outputs": [
        {
          "output_type": "display_data",
          "data": {
            "image/png": "[encoded data removed]",
            "text/plain": [
              "<Figure size 800x550 with 1 Axes>"
            ]
          },
          "metadata": {}
        }
      ]
    },
    {
      "cell_type": "code",
      "metadata": {
        "colab": {
          "base_uri": "https://localhost:8080/",
          "height": 34
        },
        "id": "0V1wC-ohioCP",
        "outputId": "b6d3f5a7-cf88-4303-a698-f1c54b9fec13"
      },
      "source": [
        "# Performance Analysis of RBM in terms of Test Mean Absolute Error\n",
        "test_loss = 0\n",
        "s = 0.\n",
        "for i in range(14685):\n",
        "    \n",
        "    vt = test_set[i:i + 1]\n",
        "    \n",
        "    # BLIND WALK BY 1-STEP CD....\n",
        "    if len(vt[vt>=0]) > 0:\n",
        "        _,h = rbm.sample_h(vt)\n",
        "        _,v = rbm.sample_v(h)\n",
        "        test_loss += torch.mean(torch.abs(vt[vt>=0] - v[vt>=0]))\n",
        "        s += 1\n",
        "print('test_loss: '+str(test_loss/s))"
      ],
      "execution_count": null,
      "outputs": [
        {
          "name": "stdout",
          "output_type": "stream",
          "text": [
            "test_loss: tensor(0.1786)\n"
          ]
        }
      ]
    },
    {
      "cell_type": "code",
      "metadata": {
        "id": "Yr-NMpg3nqIy"
      },
      "source": [
        "# getting the recommended ratings on the Training Set\n",
        "answer_train = np.ones((58736, 100))\n",
        "for i in range(58736):\n",
        "    #v = training_set[id_user:id_user + 1]\n",
        "    vt = training_set[i:i + 1]\n",
        "    \n",
        "    # BLIND WALK BY 1-STEP CD....\n",
        "    if len(vt[vt>=0]) > 0:\n",
        "        _,h = rbm.sample_h(vt)\n",
        "        _,v = rbm.sample_v(h)\n",
        "        answer_train[i] = np.array(v)"
      ],
      "execution_count": null,
      "outputs": []
    },
    {
      "cell_type": "code",
      "metadata": {
        "id": "KjgCTL_Pnr3b"
      },
      "source": [
        "# getting the recommended ratings on the Test Set\n",
        "answer_test = np.ones((14685, 100))\n",
        "for i in range(14685):\n",
        "    vt = test_set[i:i + 1]\n",
        "    \n",
        "    # BLIND WALK BY 1-STEP CD....\n",
        "    if len(vt[vt>=0]) > 0:\n",
        "        _,h = rbm.sample_h(vt)\n",
        "        _,v = rbm.sample_v(h)\n",
        "        answer_test[i] = np.array(v)"
      ],
      "execution_count": null,
      "outputs": []
    },
    {
      "cell_type": "code",
      "metadata": {
        "id": "r6FcOu6zoAie"
      },
      "source": [
        "# concatenating the recommended ratings of the training and test set\n",
        "answer = np.concatenate((answer_train, answer_test), axis = 0)"
      ],
      "execution_count": null,
      "outputs": []
    },
    {
      "cell_type": "code",
      "metadata": {
        "id": "5eO1RuAfpLQu"
      },
      "source": [
        "# saving the recommended ratings in array-form into a csv file\n",
        "np.savetxt(\"answer.csv\", answer, delimiter = \",\")"
      ],
      "execution_count": null,
      "outputs": []
    },
    {
      "cell_type": "code",
      "metadata": {
        "colab": {
          "base_uri": "https://localhost:8080/",
          "height": 376
        },
        "id": "RwBNYLDupOjO",
        "outputId": "42d35cf7-1b13-4a55-fade-a3a7c4e47bb0"
      },
      "source": [
        "# elbow method applied on recommended ratings dataset (D1) to select optimum number of clusters\n",
        "\n",
        "from sklearn.cluster import KMeans\n",
        "wcss=[]\n",
        "for i in range(1,10):\n",
        "    kmeans=KMeans(n_clusters=i,init='k-means++',)\n",
        "    kmeans.fit(answer)\n",
        "    wcss.append(kmeans.inertia_)\n",
        "    \n",
        "plt.plot(range(1,10),wcss)\n",
        "plt.title('Elbow Method')\n",
        "plt.xlabel('No. of cluster')\n",
        "plt.ylabel('wcss: sum of dist. of sample to their closest cluster center')\n",
        "plt.show()"
      ],
      "execution_count": null,
      "outputs": [
        {
          "data": {
            "image/png": "[encoded data removed]",
            "text/plain": [
              "<Figure size 576x396 with 1 Axes>"
            ]
          },
          "metadata": {
            "tags": []
          },
          "output_type": "display_data"
        }
      ]
    },
    {
      "cell_type": "markdown",
      "metadata": {
        "id": "SA4aK_ycJv5y"
      },
      "source": [
        "The optimum number of clusters is found to be 3"
      ]
    },
    {
      "cell_type": "code",
      "metadata": {
        "id": "9qMmxzxtpR0m"
      },
      "source": [
        "# concatenating the original training and test datasets and filling the missing ratings by the recommended ratings - D2\n",
        "x = np.concatenate((training_set, test_set), axis = 0)\n",
        "\n",
        "for i in range(x.shape[0]):\n",
        "    for j in range(x.shape[1]):\n",
        "        if x[i,j] == -1:\n",
        "            x[i,j] = answer[i,j]"
      ],
      "execution_count": null,
      "outputs": []
    },
    {
      "cell_type": "code",
      "metadata": {
        "colab": {
          "base_uri": "https://localhost:8080/",
          "height": 376
        },
        "id": "xaiOD-FNr3vN",
        "outputId": "ed37a3aa-7486-4567-f5ee-df717db70e6c"
      },
      "source": [
        "# elbow method applied on D2 to select optimum number of clusters\n",
        "\n",
        "wcss=[]\n",
        "for i in range(1,10):\n",
        "    kmeans=KMeans(n_clusters=i,init='k-means++',)\n",
        "    kmeans.fit(x)\n",
        "    wcss.append(kmeans.inertia_)\n",
        "    \n",
        "plt.plot(range(1,10),wcss)\n",
        "plt.title('Elbow Method')\n",
        "plt.xlabel('No. of cluster')\n",
        "plt.ylabel('wcss: sum of dist. of sample to their closest cluster center')\n",
        "plt.show()"
      ],
      "execution_count": null,
      "outputs": [
        {
          "data": {
            "image/png": "[encoded data removed]",
            "text/plain": [
              "<Figure size 576x396 with 1 Axes>"
            ]
          },
          "metadata": {
            "tags": []
          },
          "output_type": "display_data"
        }
      ]
    },
    {
      "cell_type": "markdown",
      "metadata": {
        "id": "ToHhKqSpJv57"
      },
      "source": [
        "No perfect elbow is obtained within 10 clusters. So, applying k-Means on D1 and visualizing the clusters on D2. The Cluster Visualization is done in the notebook, Preference_Visualization.ipynb"
      ]
    },
    {
      "cell_type": "code",
      "metadata": {
        "id": "1R93aaHEpmgN"
      },
      "source": [
        "# applying k-Means Clustering using 3 clusters on D1\n",
        "kmeans = KMeans(n_clusters=3)\n",
        "kmeans = kmeans.fit(answer)"
      ],
      "execution_count": null,
      "outputs": []
    },
    {
      "cell_type": "code",
      "metadata": {
        "colab": {
          "base_uri": "https://localhost:8080/",
          "height": 34
        },
        "id": "UiYtkIJHp61C",
        "outputId": "79489b0b-ce43-48e7-85c3-be3b47d4c62c"
      },
      "source": [
        "# saving the k-Means Model into pkl file (model serialization)\n",
        "from sklearn.externals import joblib\n",
        "joblib.dump(kmeans, 'answer.pkl')"
      ],
      "execution_count": null,
      "outputs": [
        {
          "data": {
            "text/plain": [
              "['answer.pkl']"
            ]
          },
          "execution_count": 35,
          "metadata": {
            "tags": []
          },
          "output_type": "execute_result"
        }
      ]
    }
  ]
}